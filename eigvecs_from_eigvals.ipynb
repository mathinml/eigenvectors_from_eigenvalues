{
 "cells": [
  {
   "cell_type": "markdown",
   "metadata": {},
   "source": [
    "### Formula"
   ]
  },
  {
   "cell_type": "markdown",
   "metadata": {},
   "source": [
    "$$\n",
    "\\left|v_{i, j}\\right|^{2} \\prod_{k=1 ; k \\neq i}^{n}\\left(\\lambda_{i}(A)-\\lambda_{k}(A)\\right)=\\prod_{k=1}^{n-1}\\left(\\lambda_{i}(A)-\\lambda_{k}\\left(M_{j}\\right)\\right)\n",
    "$$"
   ]
  },
  {
   "cell_type": "markdown",
   "metadata": {},
   "source": [
    "### NumPy"
   ]
  },
  {
   "cell_type": "code",
   "execution_count": 1,
   "metadata": {},
   "outputs": [],
   "source": [
    "import numpy as np\n",
    "from numpy import linalg as LA"
   ]
  },
  {
   "cell_type": "code",
   "execution_count": 2,
   "metadata": {},
   "outputs": [
    {
     "data": {
      "text/plain": [
       "'1.17.2'"
      ]
     },
     "execution_count": 2,
     "metadata": {},
     "output_type": "execute_result"
    }
   ],
   "source": [
    "np.__version__"
   ]
  },
  {
   "cell_type": "code",
   "execution_count": 11,
   "metadata": {},
   "outputs": [],
   "source": [
    "np.set_printoptions(precision=18)"
   ]
  },
  {
   "cell_type": "code",
   "execution_count": 2,
   "metadata": {},
   "outputs": [],
   "source": [
    "def sub_matrix_np0(A, n, j):\n",
    "    row, row[j] = np.ones(n, dtype=bool), False\n",
    "    return A[row][:,row]\n",
    "\n",
    "def sub_matrix_np1(A, n, j):\n",
    "    row, row[j:] = np.arange(n-1), np.arange(n-1)[j:]+1\n",
    "    return A[row][:,row]\n",
    "\n",
    "def sub_matrix_np2(A, n, j):\n",
    "    row = np.arange(n)\n",
    "    row = np.concatenate([row[:j], row[j+1:]])\n",
    "    return A[row][:,row]"
   ]
  },
  {
   "cell_type": "code",
   "execution_count": 5,
   "metadata": {},
   "outputs": [],
   "source": [
    "def eigv_ij_tao_np(A, i, j):\n",
    "\n",
    "    eigvals = LA.eigvals(A)\n",
    "    M_j = sub_matrix_np0(A, eigvals.shape[0], j)\n",
    "    eigvals_M_j = LA.eigvals(M_j)\n",
    "    eigvals_M_j = eigvals_M_j - eigvals[i]\n",
    "    eigvals, eigvals[i] = eigvals - eigvals[i], 1.0\n",
    "\n",
    "    return np.prod(eigvals_M_j) / np.prod(eigvals)"
   ]
  },
  {
   "cell_type": "code",
   "execution_count": 6,
   "metadata": {},
   "outputs": [
    {
     "data": {
      "text/plain": [
       "array([[3.20233843, 2.06764157, 2.88108853, 3.04719701, 1.35948144,\n",
       "        2.56403503, 1.45954379, 2.13631733, 1.53986513, 3.25995899],\n",
       "       [2.06764157, 2.29127686, 2.1014315 , 2.70700189, 1.39188518,\n",
       "        2.29620216, 1.40820018, 1.53013976, 1.63189934, 2.82578892],\n",
       "       [2.88108853, 2.1014315 , 3.50400477, 3.47397131, 1.76088485,\n",
       "        3.23409601, 1.32428533, 2.77130533, 2.23036096, 3.42124947],\n",
       "       [3.04719701, 2.70700189, 3.47397131, 4.73687997, 2.20972905,\n",
       "        3.77378375, 2.34901207, 2.48563082, 2.19559837, 4.13322167],\n",
       "       [1.35948144, 1.39188518, 1.76088485, 2.20972905, 1.59570009,\n",
       "        2.14854992, 1.1252818 , 1.94769495, 1.34582313, 2.1726746 ],\n",
       "       [2.56403503, 2.29620216, 3.23409601, 3.77378375, 2.14854992,\n",
       "        3.90925026, 2.11631829, 2.99858233, 2.44964915, 3.61299442],\n",
       "       [1.45954379, 1.40820018, 1.32428533, 2.34901207, 1.1252818 ,\n",
       "        2.11631829, 2.14092743, 1.13700682, 1.22321095, 2.05145548],\n",
       "       [2.13631733, 1.53013976, 2.77130533, 2.48563082, 1.94769495,\n",
       "        2.99858233, 1.13700682, 3.41056761, 2.08224044, 3.02608265],\n",
       "       [1.53986513, 1.63189934, 2.23036096, 2.19559837, 1.34582313,\n",
       "        2.44964915, 1.22321095, 2.08224044, 2.12302856, 2.41838461],\n",
       "       [3.25995899, 2.82578892, 3.42124947, 4.13322167, 2.1726746 ,\n",
       "        3.61299442, 2.05145548, 3.02608265, 2.41838461, 4.55396155]])"
      ]
     },
     "execution_count": 6,
     "metadata": {},
     "output_type": "execute_result"
    }
   ],
   "source": [
    "A = np.array([[3.20233843, 2.06764157, 2.88108853, 3.04719701, 1.35948144,\n",
    "        2.56403503, 1.45954379, 2.13631733, 1.53986513, 3.25995899],\n",
    "       [2.06764157, 2.29127686, 2.1014315 , 2.70700189, 1.39188518,\n",
    "        2.29620216, 1.40820018, 1.53013976, 1.63189934, 2.82578892],\n",
    "       [2.88108853, 2.1014315 , 3.50400477, 3.47397131, 1.76088485,\n",
    "        3.23409601, 1.32428533, 2.77130533, 2.23036096, 3.42124947],\n",
    "       [3.04719701, 2.70700189, 3.47397131, 4.73687997, 2.20972905,\n",
    "        3.77378375, 2.34901207, 2.48563082, 2.19559837, 4.13322167],\n",
    "       [1.35948144, 1.39188518, 1.76088485, 2.20972905, 1.59570009,\n",
    "        2.14854992, 1.1252818 , 1.94769495, 1.34582313, 2.1726746 ],\n",
    "       [2.56403503, 2.29620216, 3.23409601, 3.77378375, 2.14854992,\n",
    "        3.90925026, 2.11631829, 2.99858233, 2.44964915, 3.61299442],\n",
    "       [1.45954379, 1.40820018, 1.32428533, 2.34901207, 1.1252818 ,\n",
    "        2.11631829, 2.14092743, 1.13700682, 1.22321095, 2.05145548],\n",
    "       [2.13631733, 1.53013976, 2.77130533, 2.48563082, 1.94769495,\n",
    "        2.99858233, 1.13700682, 3.41056761, 2.08224044, 3.02608265],\n",
    "       [1.53986513, 1.63189934, 2.23036096, 2.19559837, 1.34582313,\n",
    "        2.44964915, 1.22321095, 2.08224044, 2.12302856, 2.41838461],\n",
    "       [3.25995899, 2.82578892, 3.42124947, 4.13322167, 2.1726746 ,\n",
    "        3.61299442, 2.05145548, 3.02608265, 2.41838461, 4.55396155]])\n",
    "A"
   ]
  },
  {
   "cell_type": "code",
   "execution_count": 8,
   "metadata": {},
   "outputs": [],
   "source": [
    "n = A.shape[0]"
   ]
  },
  {
   "cell_type": "code",
   "execution_count": 9,
   "metadata": {},
   "outputs": [
    {
     "data": {
      "text/plain": [
       "[0.010078898355312161,\n",
       " 0.008526097435704025,\n",
       " 0.03552221239921944,\n",
       " 0.021411824331722774,\n",
       " 0.17690013381018135,\n",
       " 0.5189551148981736,\n",
       " 0.06059635621137234,\n",
       " 0.00246512246354466,\n",
       " 0.10612109694238948,\n",
       " 0.059423143152378614]"
      ]
     },
     "execution_count": 9,
     "metadata": {},
     "output_type": "execute_result"
    }
   ],
   "source": [
    "# v_n\n",
    "[eigv_ij_tao_np(A, i=n-1, j=j) for j in range(n)]"
   ]
  },
  {
   "cell_type": "code",
   "execution_count": 10,
   "metadata": {},
   "outputs": [
    {
     "name": "stdout",
     "output_type": "stream",
     "text": [
      "759 µs ± 7.15 µs per loop (mean ± std. dev. of 7 runs, 1000 loops each)\n"
     ]
    }
   ],
   "source": [
    "%%timeit\n",
    "[eigv_ij_tao_np(A, i=n-1, j=j) for j in range(n)]"
   ]
  },
  {
   "cell_type": "code",
   "execution_count": 12,
   "metadata": {},
   "outputs": [
    {
     "data": {
      "text/plain": [
       "array([[0.010078898355311885],\n",
       "       [0.008526097435703766],\n",
       "       [0.035522212399219155],\n",
       "       [0.021411824331722753],\n",
       "       [0.17690013381018374 ],\n",
       "       [0.5189551148981745  ],\n",
       "       [0.0605963562113716  ],\n",
       "       [0.002465122463544841],\n",
       "       [0.10612109694238844 ],\n",
       "       [0.059423143152379225]])"
      ]
     },
     "execution_count": 12,
     "metadata": {},
     "output_type": "execute_result"
    }
   ],
   "source": [
    "# eigenvectors from numpy.linalg\n",
    "(LA.eig(A)[1]**2)[:,n-1].reshape(-1,1)"
   ]
  },
  {
   "cell_type": "code",
   "execution_count": 13,
   "metadata": {},
   "outputs": [
    {
     "name": "stdout",
     "output_type": "stream",
     "text": [
      "39.4 µs ± 289 ns per loop (mean ± std. dev. of 7 runs, 10000 loops each)\n"
     ]
    }
   ],
   "source": [
    "%%timeit\n",
    "(LA.eig(A)[1]**2)[:,n-1].reshape(-1,1)"
   ]
  },
  {
   "cell_type": "markdown",
   "metadata": {},
   "source": [
    "### PyTorch"
   ]
  },
  {
   "cell_type": "code",
   "execution_count": 14,
   "metadata": {},
   "outputs": [],
   "source": [
    "import torch"
   ]
  },
  {
   "cell_type": "code",
   "execution_count": 41,
   "metadata": {},
   "outputs": [
    {
     "data": {
      "text/plain": [
       "'1.1.0'"
      ]
     },
     "execution_count": 41,
     "metadata": {},
     "output_type": "execute_result"
    }
   ],
   "source": [
    "torch.__version__"
   ]
  },
  {
   "cell_type": "code",
   "execution_count": 15,
   "metadata": {},
   "outputs": [],
   "source": [
    "torch.set_printoptions(precision=18)"
   ]
  },
  {
   "cell_type": "code",
   "execution_count": 16,
   "metadata": {},
   "outputs": [],
   "source": [
    "def sub_matrix_torch0(A, n, j):\n",
    "    row, row[j] = torch.ones(n, dtype=torch.bool), False\n",
    "    return A[row][:,row]\n",
    "\n",
    "def sub_matrix_torch1(A, n, j):\n",
    "    row, row[j:] = torch.arange(n-1), torch.arange(n-1)[j:]+1\n",
    "    return A[row][:,row]\n",
    "\n",
    "def sub_matrix_torch2(A, n, j):\n",
    "    row = torch.arange(n)\n",
    "    row = torch.cat([row[:j], row[j+1:]])\n",
    "    return A[row][:,row]"
   ]
  },
  {
   "cell_type": "code",
   "execution_count": 17,
   "metadata": {},
   "outputs": [],
   "source": [
    "def eigv_ij_tao_torch(A, i, j):\n",
    "\n",
    "    eigvals, _ = torch.symeig(A)\n",
    "    M = sub_matrix_torch2(A, eigvals.shape[0], j)\n",
    "    eigvals_M_j, _ = torch.symeig(M)\n",
    "    eigvals_M_j = eigvals_M_j - eigvals[i]\n",
    "    eigvals, eigvals[i] = eigvals - eigvals[i], 1.0\n",
    "\n",
    "    return torch.prod(eigvals_M_j) / torch.prod(eigvals)"
   ]
  },
  {
   "cell_type": "code",
   "execution_count": 18,
   "metadata": {},
   "outputs": [],
   "source": [
    "A_torch = torch.tensor(A)"
   ]
  },
  {
   "cell_type": "code",
   "execution_count": 19,
   "metadata": {},
   "outputs": [],
   "source": [
    "n = A_torch.shape[0]"
   ]
  },
  {
   "cell_type": "code",
   "execution_count": 20,
   "metadata": {},
   "outputs": [
    {
     "data": {
      "text/plain": [
       "[tensor(0.010078898355311965, dtype=torch.float64),\n",
       " tensor(0.008526097435700507, dtype=torch.float64),\n",
       " tensor(0.035522212399216449, dtype=torch.float64),\n",
       " tensor(0.021411824331723325, dtype=torch.float64),\n",
       " tensor(0.176900133810184573, dtype=torch.float64),\n",
       " tensor(0.518955114898170700, dtype=torch.float64),\n",
       " tensor(0.060596356211371390, dtype=torch.float64),\n",
       " tensor(0.002465122463545969, dtype=torch.float64),\n",
       " tensor(0.106121096942389470, dtype=torch.float64),\n",
       " tensor(0.059423143152376595, dtype=torch.float64)]"
      ]
     },
     "execution_count": 20,
     "metadata": {},
     "output_type": "execute_result"
    }
   ],
   "source": [
    "[eigv_ij_tao_torch(A_torch, i=n-8, j=j) for j in range(n)]"
   ]
  },
  {
   "cell_type": "code",
   "execution_count": 21,
   "metadata": {},
   "outputs": [
    {
     "name": "stdout",
     "output_type": "stream",
     "text": [
      "851 µs ± 1.07 µs per loop (mean ± std. dev. of 7 runs, 1000 loops each)\n"
     ]
    }
   ],
   "source": [
    "%%timeit\n",
    "[eigv_ij_tao_torch(A_torch, i=n-8, j=j) for j in range(n)]"
   ]
  },
  {
   "cell_type": "code",
   "execution_count": 23,
   "metadata": {},
   "outputs": [
    {
     "name": "stdout",
     "output_type": "stream",
     "text": [
      "35.4 µs ± 178 ns per loop (mean ± std. dev. of 7 runs, 10000 loops each)\n"
     ]
    }
   ],
   "source": [
    "%%timeit\n",
    "eig, eigv = torch.eig(A_torch, eigenvectors=True)\n",
    "eigv[:,n-1]**2"
   ]
  },
  {
   "cell_type": "markdown",
   "metadata": {},
   "source": [
    "### Test"
   ]
  },
  {
   "cell_type": "code",
   "execution_count": 26,
   "metadata": {},
   "outputs": [
    {
     "data": {
      "text/plain": [
       "array([[67.47723926317164 , 54.19423484384579 , 54.27515904605383 , ...,\n",
       "        49.879068195082326, 52.45239609483475 , 49.408191932642495],\n",
       "       [54.19423484384579 , 71.04782742790326 , 53.85157684964276 , ...,\n",
       "        52.12536300728289 , 54.07596344138458 , 52.375034082709284],\n",
       "       [54.27515904605383 , 53.85157684964276 , 69.68410454172101 , ...,\n",
       "        50.52068209024865 , 53.62038066497085 , 49.4446241172947  ],\n",
       "       ...,\n",
       "       [49.879068195082326, 52.12536300728289 , 50.52068209024865 , ...,\n",
       "        64.06442820289213 , 52.68081075931759 , 48.13930731991735 ],\n",
       "       [52.45239609483475 , 54.07596344138458 , 53.62038066497085 , ...,\n",
       "        52.68081075931759 , 70.45479014414464 , 48.559403460835036],\n",
       "       [49.408191932642495, 52.375034082709284, 49.4446241172947  , ...,\n",
       "        48.13930731991735 , 48.559403460835036, 66.04338254189733 ]])"
      ]
     },
     "execution_count": 26,
     "metadata": {},
     "output_type": "execute_result"
    }
   ],
   "source": [
    "A = np.random.rand(200, 200)\n",
    "A = A.dot(A.T)\n",
    "A"
   ]
  },
  {
   "cell_type": "code",
   "execution_count": 27,
   "metadata": {},
   "outputs": [],
   "source": [
    "n = A.shape[0]"
   ]
  },
  {
   "cell_type": "code",
   "execution_count": 28,
   "metadata": {},
   "outputs": [
    {
     "name": "stdout",
     "output_type": "stream",
     "text": [
      "3.17 s ± 51.9 ms per loop (mean ± std. dev. of 7 runs, 1 loop each)\n"
     ]
    }
   ],
   "source": [
    "%%timeit\n",
    "[eigv_ij_tao_np(A, i=n-1, j=j) for j in range(n)]"
   ]
  },
  {
   "cell_type": "code",
   "execution_count": 29,
   "metadata": {},
   "outputs": [],
   "source": [
    "A_torch = torch.tensor(A)"
   ]
  },
  {
   "cell_type": "code",
   "execution_count": 33,
   "metadata": {},
   "outputs": [
    {
     "name": "stdout",
     "output_type": "stream",
     "text": [
      "556 ms ± 1.59 ms per loop (mean ± std. dev. of 7 runs, 1 loop each)\n"
     ]
    }
   ],
   "source": [
    "%%timeit\n",
    "[eigv_ij_tao_torch(A_torch, i=n-1, j=j) for j in range(n)]"
   ]
  },
  {
   "cell_type": "code",
   "execution_count": 31,
   "metadata": {},
   "outputs": [
    {
     "name": "stdout",
     "output_type": "stream",
     "text": [
      "11.9 ms ± 393 µs per loop (mean ± std. dev. of 7 runs, 100 loops each)\n"
     ]
    }
   ],
   "source": [
    "%%timeit\n",
    "(LA.eig(A)[1]**2)[:,n-1].reshape(-1,1)"
   ]
  },
  {
   "cell_type": "code",
   "execution_count": 32,
   "metadata": {},
   "outputs": [
    {
     "name": "stdout",
     "output_type": "stream",
     "text": [
      "10.5 ms ± 91.7 µs per loop (mean ± std. dev. of 7 runs, 100 loops each)\n"
     ]
    }
   ],
   "source": [
    "%%timeit\n",
    "eig, eigv = torch.eig(A_torch, eigenvectors=True)\n",
    "eigv[:,n-1]**2"
   ]
  }
 ],
 "metadata": {
  "kernelspec": {
   "display_name": "Pytorch for Deeplearning",
   "language": "python",
   "name": "pytorch120"
  },
  "language_info": {
   "codemirror_mode": {
    "name": "ipython",
    "version": 3
   },
   "file_extension": ".py",
   "mimetype": "text/x-python",
   "name": "python",
   "nbconvert_exporter": "python",
   "pygments_lexer": "ipython3",
   "version": "3.7.4"
  },
  "nbTranslate": {
   "displayLangs": [
    "*"
   ],
   "hotkey": "alt-t",
   "langInMainMenu": true,
   "sourceLang": "en",
   "targetLang": "fr",
   "useGoogleTranslate": true
  }
 },
 "nbformat": 4,
 "nbformat_minor": 2
}
